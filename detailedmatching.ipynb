{
 "cells": [
  {
   "cell_type": "code",
   "id": "f473734e6d4b863f",
   "metadata": {
    "ExecuteTime": {
     "end_time": "2025-04-17T01:30:54.850207Z",
     "start_time": "2025-04-17T01:30:54.847730Z"
    }
   },
   "source": [
    "import cv2\n",
    "import numpy as np\n",
    "import matplotlib.pyplot as plt\n",
    "import os\n",
    "from scipy.signal import find_peaks\n",
    "from scipy.signal import savgol_filter\n",
    "from scipy.ndimage import gaussian_filter1d\n",
    "import pandas as pd\n",
    "import math"
   ],
   "outputs": [],
   "execution_count": 102
  },
  {
   "metadata": {
    "ExecuteTime": {
     "end_time": "2025-04-17T01:30:54.869372Z",
     "start_time": "2025-04-17T01:30:54.853181Z"
    }
   },
   "cell_type": "code",
   "source": "image_path = \"images/hack2.png\"",
   "id": "92d4d6748276ddd0",
   "outputs": [],
   "execution_count": 103
  },
  {
   "metadata": {
    "ExecuteTime": {
     "end_time": "2025-04-17T01:30:54.900200Z",
     "start_time": "2025-04-17T01:30:54.897128Z"
    }
   },
   "cell_type": "code",
   "source": [
    "def display_image(title, image):\n",
    "    plt.figure(figsize=(8, 8))\n",
    "    plt.title(title)\n",
    "    plt.axis('off')\n",
    "    if len(image.shape) == 2 or image.shape[2] == 1:\n",
    "        plt.imshow(image, cmap='gray')\n",
    "    else:\n",
    "        plt.imshow(cv2.cvtColor(image, cv2.COLOR_BGR2RGB))\n",
    "    plt.show()"
   ],
   "id": "531e623348bb6350",
   "outputs": [],
   "execution_count": 104
  },
  {
   "metadata": {
    "ExecuteTime": {
     "end_time": "2025-04-17T01:30:54.972220Z",
     "start_time": "2025-04-17T01:30:54.942387Z"
    }
   },
   "cell_type": "code",
   "source": [
    "# ## Basic reading image and display\n",
    "\n",
    "original_image = cv2.imread(image_path, cv2.IMREAD_COLOR)\n",
    "if original_image is None:\n",
    "    raise ValueError(f\"Could not read image from {image_path}\")\n"
   ],
   "id": "d65ef19b24d9a9b4",
   "outputs": [],
   "execution_count": 105
  },
  {
   "metadata": {
    "ExecuteTime": {
     "end_time": "2025-04-17T01:30:54.999516Z",
     "start_time": "2025-04-17T01:30:54.996998Z"
    }
   },
   "cell_type": "code",
   "source": [
    "# ## Grayscale conversion\n",
    "\n",
    "gray_image = cv2.cvtColor(original_image, cv2.COLOR_BGR2GRAY)\n",
    "# display_image(\"Grayscale Image\", gray_image)"
   ],
   "id": "1836f5098299a25c",
   "outputs": [],
   "execution_count": 106
  },
  {
   "metadata": {
    "ExecuteTime": {
     "end_time": "2025-04-17T01:30:55.042126Z",
     "start_time": "2025-04-17T01:30:55.039724Z"
    }
   },
   "cell_type": "code",
   "source": [
    "# print(\"Threshold to separate pieces from background\")\n",
    "_, binary_image = cv2.threshold(gray_image, 30, 255, cv2.THRESH_BINARY)\n",
    "# display_image(\"Binary Image\", binary_image)"
   ],
   "id": "1cdf00d7c8a78c52",
   "outputs": [],
   "execution_count": 107
  },
  {
   "metadata": {
    "ExecuteTime": {
     "end_time": "2025-04-17T01:30:55.087958Z",
     "start_time": "2025-04-17T01:30:55.084433Z"
    }
   },
   "cell_type": "code",
   "source": [
    "kernel = np.ones((12, 12), np.uint8)\n",
    "\n",
    "# Close = filling the holes\n",
    "morph_image = cv2.morphologyEx(binary_image, cv2.MORPH_CLOSE, kernel)\n",
    "# Open = removing the noise\n",
    "morph_image = cv2.morphologyEx(morph_image, cv2.MORPH_OPEN, kernel)\n",
    "# display_image(\"Morph Operations\", morph_image)"
   ],
   "id": "6ced941cc36cfc41",
   "outputs": [],
   "execution_count": 108
  },
  {
   "metadata": {
    "ExecuteTime": {
     "end_time": "2025-04-17T01:30:55.132326Z",
     "start_time": "2025-04-17T01:30:55.129021Z"
    }
   },
   "cell_type": "code",
   "source": [
    "# print(\"Filling holes in puzzle pieces\")\n",
    "contours_fill, _ = cv2.findContours(morph_image, cv2.RETR_CCOMP, cv2.CHAIN_APPROX_SIMPLE)\n",
    "for cnt in contours_fill:\n",
    "    cv2.drawContours(morph_image, [cnt], 0, 255, -1)\n",
    "# display_image(\"Filled Holes\", morph_image)"
   ],
   "id": "d41eed4a3bf6244",
   "outputs": [],
   "execution_count": 109
  },
  {
   "metadata": {
    "ExecuteTime": {
     "end_time": "2025-04-17T01:30:55.176171Z",
     "start_time": "2025-04-17T01:30:55.173043Z"
    }
   },
   "cell_type": "code",
   "source": [
    "# ## Contours finding\n",
    "contours, _ = cv2.findContours(morph_image, cv2.RETR_EXTERNAL, cv2.CHAIN_APPROX_NONE)\n",
    "# print(f\"Found {len(contours)} potential puzzle pieces\")"
   ],
   "id": "938f4c0cbfe2e60e",
   "outputs": [],
   "execution_count": 110
  },
  {
   "metadata": {
    "ExecuteTime": {
     "end_time": "2025-04-17T01:30:55.220328Z",
     "start_time": "2025-04-17T01:30:55.217102Z"
    }
   },
   "cell_type": "code",
   "source": [
    "# print(\"Filtering contours by size\")\n",
    "contours = sorted(contours, key=lambda x: cv2.contourArea(x), reverse=True)\n",
    "if len(contours) > 1:\n",
    "    reference_area = cv2.contourArea(contours[1])\n",
    "    contours = [cnt for cnt in contours if cv2.contourArea(cnt) > reference_area / 3]\n",
    "# print(f\"After filtering: {len(contours)} puzzle pieces\")"
   ],
   "id": "6f7c96130f30df43",
   "outputs": [],
   "execution_count": 111
  },
  {
   "metadata": {
    "ExecuteTime": {
     "end_time": "2025-04-17T01:30:55.271744Z",
     "start_time": "2025-04-17T01:30:55.263095Z"
    }
   },
   "cell_type": "code",
   "source": [
    "# print(\"Drawing contours of the original image\")\n",
    "contour_image = original_image.copy()\n",
    "# cv2.drawContours(contour_image, contours, -1, (0, 255, 0), 2)"
   ],
   "id": "380c4fbeb48f069",
   "outputs": [
    {
     "data": {
      "text/plain": [
       "array([[[21, 21, 21],\n",
       "        [21, 21, 21],\n",
       "        [21, 21, 21],\n",
       "        ...,\n",
       "        [21, 21, 21],\n",
       "        [21, 21, 21],\n",
       "        [21, 21, 21]],\n",
       "\n",
       "       [[21, 21, 21],\n",
       "        [21, 21, 21],\n",
       "        [21, 21, 21],\n",
       "        ...,\n",
       "        [21, 21, 21],\n",
       "        [21, 21, 21],\n",
       "        [21, 21, 21]],\n",
       "\n",
       "       [[21, 21, 21],\n",
       "        [21, 21, 21],\n",
       "        [21, 21, 21],\n",
       "        ...,\n",
       "        [21, 21, 21],\n",
       "        [21, 21, 21],\n",
       "        [21, 21, 21]],\n",
       "\n",
       "       ...,\n",
       "\n",
       "       [[21, 21, 21],\n",
       "        [21, 21, 21],\n",
       "        [21, 21, 21],\n",
       "        ...,\n",
       "        [21, 21, 21],\n",
       "        [21, 21, 21],\n",
       "        [21, 21, 21]],\n",
       "\n",
       "       [[21, 21, 21],\n",
       "        [21, 21, 21],\n",
       "        [21, 21, 21],\n",
       "        ...,\n",
       "        [21, 21, 21],\n",
       "        [21, 21, 21],\n",
       "        [21, 21, 21]],\n",
       "\n",
       "       [[21, 21, 21],\n",
       "        [21, 21, 21],\n",
       "        [21, 21, 21],\n",
       "        ...,\n",
       "        [21, 21, 21],\n",
       "        [21, 21, 21],\n",
       "        [21, 21, 21]]], dtype=uint8)"
      ]
     },
     "execution_count": 112,
     "metadata": {},
     "output_type": "execute_result"
    }
   ],
   "execution_count": 112
  },
  {
   "metadata": {
    "ExecuteTime": {
     "end_time": "2025-04-17T01:30:55.312139Z",
     "start_time": "2025-04-17T01:30:55.308682Z"
    }
   },
   "cell_type": "code",
   "source": [
    "output_folder_pieces = \"images/extracted_pieces\"\n",
    "os.makedirs(output_folder_pieces, exist_ok=True)\n",
    "\n",
    "output_folder_contours = \"images/extracted_contours\"\n",
    "os.makedirs(output_folder_contours, exist_ok=True)\n",
    "\n",
    "output_corner_folder = \"images/extracted_corners\"\n",
    "os.makedirs(output_corner_folder, exist_ok=True)\n",
    "\n",
    "output_transparent_folder = \"images/transparent_pieces\"\n",
    "os.makedirs(output_transparent_folder, exist_ok=True)\n",
    "\n",
    "output_plots_folder = \"images/corner_plots\"\n",
    "os.makedirs(output_plots_folder, exist_ok=True)\n",
    "\n",
    "output_edges_and_corner_folder = \"images/edges_and_corners\"\n",
    "os.makedirs(output_edges_and_corner_folder, exist_ok=True)\n",
    "\n",
    "output_tests = \"images/tests\"\n",
    "os.makedirs(output_tests, exist_ok=True)"
   ],
   "id": "927c0dde5cff94c",
   "outputs": [],
   "execution_count": 113
  },
  {
   "metadata": {
    "ExecuteTime": {
     "end_time": "2025-04-17T01:30:55.356488Z",
     "start_time": "2025-04-17T01:30:55.354089Z"
    }
   },
   "cell_type": "code",
   "source": [
    "class Edge:\n",
    "    def __init__(self, edge_id, edge_type, left_corner, right_corner):\n",
    "        self.edge_type = edge_type\n",
    "        self.edge_id = edge_id\n",
    "        self.left_corner = left_corner\n",
    "        self.right_corner = right_corner\n",
    "        self.contour_indices = []\n",
    "        self.length = None\n",
    "        self.orientation = None\n",
    "        self.color_edge_line = None"
   ],
   "id": "8485b7b634c8d6e1",
   "outputs": [],
   "execution_count": 114
  },
  {
   "metadata": {
    "ExecuteTime": {
     "end_time": "2025-04-17T01:30:55.401360Z",
     "start_time": "2025-04-17T01:30:55.398080Z"
    }
   },
   "cell_type": "code",
   "source": [
    "class puzzlePiece:\n",
    "    def __init__(self, piece_id):\n",
    "        self.piece_id = piece_id\n",
    "        self.absolute_contour = None\n",
    "        self.relative_contour = None\n",
    "        self.corners = None\n",
    "        self.absolute_center = None\n",
    "        self.relative_center = None\n",
    "        self.contour_polar = None\n",
    "        self.rotation_matrix = None\n",
    "        self.edges = None\n",
    "        self.edges_cat = None\n",
    "        self.edges_ord = None\n",
    "        self.piece_type = None\n",
    "        self.mask = None\n",
    "        self.bounding_rect = None\n",
    "        self.absolute_coords = None\n",
    "        self.relative_coords = None\n",
    "        self.color_stats = None\n",
    "        self.cropped_image = None\n",
    "        self.relative_mask = None\n",
    "        self.transparent_image = None\n",
    "\n",
    "\n",
    "    def __repr__(self):\n",
    "        ret = \"\"\n",
    "        ret += f\"{self.piece_id}\\n\"\n",
    "        ret += f\"Contour: {len(self.contour)}\\n\"\n",
    "        ret += f\"Corners: {self.corners}\\n\"\n",
    "\n",
    "        return ret"
   ],
   "id": "980c6aca1e13f182",
   "outputs": [],
   "execution_count": 115
  },
  {
   "metadata": {
    "collapsed": true,
    "ExecuteTime": {
     "end_time": "2025-04-17T01:30:55.445364Z",
     "start_time": "2025-04-17T01:30:55.442918Z"
    }
   },
   "cell_type": "code",
   "source": [
    "class Puzzle:\n",
    "    _counter = 0\n",
    "    def __init__(self):\n",
    "        self.puzzle_id = Puzzle._counter\n",
    "        Puzzle._counter += 1\n",
    "        self.all_pieces = {}\n",
    "        self.corners_pieces = []\n",
    "        self.borders_pieces = []\n",
    "        self.middle_pieces = []"
   ],
   "id": "initial_id",
   "outputs": [],
   "execution_count": 116
  },
  {
   "metadata": {
    "ExecuteTime": {
     "end_time": "2025-04-17T01:30:55.489331Z",
     "start_time": "2025-04-17T01:30:55.487012Z"
    }
   },
   "cell_type": "code",
   "source": "my_puzzle = Puzzle()",
   "id": "d416a2ac3cab1e5b",
   "outputs": [],
   "execution_count": 117
  },
  {
   "metadata": {
    "ExecuteTime": {
     "end_time": "2025-04-17T01:30:55.921272Z",
     "start_time": "2025-04-17T01:30:55.554893Z"
    }
   },
   "cell_type": "code",
   "source": [
    "for contours_indices in range(len(contours)):\n",
    "    # In[108]:\n",
    "    selected_image_index = contours_indices\n",
    "\n",
    "\n",
    "    this_piece = puzzlePiece(selected_image_index)\n",
    "    this_piece.contour = contours[contours_indices]\n",
    "\n",
    "    # In[109]:\n",
    "    piece_images = []\n",
    "\n",
    "    i = selected_image_index\n",
    "    contour = contours[i]\n",
    "\n",
    "    mask = np.zeros_like(gray_image)\n",
    "    cv2.drawContours(mask, [contour], 0, 255, -1)\n",
    "\n",
    "    this_piece.mask = mask\n",
    "\n",
    "    piece = np.zeros_like(original_image)\n",
    "    piece[mask == 255] = original_image[mask == 255]\n",
    "    x, y, w, h = cv2.boundingRect(contour)\n",
    "    cropped_piece = piece[y:y + h, x:x + w]\n",
    "    piece_images.append(cropped_piece)\n",
    "\n",
    "    this_piece.bounding_rect = (x, y, w, h)\n",
    "    this_piece.absolute_contour = contour\n",
    "    this_piece.relative_contour = contour - np.array([[x, y]])\n",
    "    this_piece.cropped_image = cropped_piece\n",
    "\n",
    "    relative_mask = mask[y:y+h, x:x+w]\n",
    "    this_piece.relative_mask = relative_mask\n",
    "\n",
    "    transparent_piece = np.zeros((h, w, 4), dtype=np.uint8)\n",
    "    transparent_piece[:, :, 0:3] = cropped_piece\n",
    "\n",
    "    transparent_piece[:, :, 3] = relative_mask\n",
    "    this_piece.transparent_image = transparent_piece\n",
    "\n",
    "    # transparent_path = os.path.join(output_transparent_folder, f\"piece_{selected_image_index}_transparent.png\")\n",
    "    # cv2.imwrite(transparent_path, transparent_piece)\n",
    "\n",
    "\n",
    "    # piece_path = os.path.join(output_folder_pieces, f\"piece_{selected_image_index + 1}.png\")\n",
    "    # cv2.imwrite(piece_path, cropped_piece)\n",
    "    contour_piece = cropped_piece.copy()\n",
    "\n",
    "    # display_image(f\"Cropped piece {selected_image_index+1}\", contour_piece)\n",
    "\n",
    "\n",
    "    # In[110]:\n",
    "    M = cv2.moments(contour)\n",
    "\n",
    "    if M[\"m00\"] == 0:\n",
    "        print(\"ERROR\")\n",
    "    centroid_x = int(M[\"m10\"] / M[\"m00\"])\n",
    "    centroid_y = int(M[\"m01\"] / M[\"m00\"])\n",
    "    cv2.circle(contour_piece, (centroid_x - x, centroid_y - y), 2, (0, 0, 255), -1)\n",
    "    # display_image(f\"Centroid {i+1}\", contour_piece)\n",
    "\n",
    "    this_piece.relative_center = (centroid_x - x, centroid_y - y)\n",
    "    this_piece.absolute_center = (centroid_x, centroid_y)\n",
    "\n",
    "    # In[113]:\n",
    "    contour_points = contour - np.array([x, y])\n",
    "    distances = []\n",
    "    angles = []\n",
    "    for point in contour:\n",
    "        px, py = point[0]\n",
    "        dx = px - centroid_x\n",
    "        dy = py - centroid_y\n",
    "        distance = np.sqrt(dx ** 2 + dy ** 2)\n",
    "        angle = np.arctan2(dy, dx)\n",
    "        distances.append(distance)\n",
    "        angles.append(angle)\n",
    "\n",
    "    angles_deg = np.array([(a * 180 / np.pi) % 360 for a in angles])\n",
    "    distances = gaussian_filter1d(distances, sigma=2)\n",
    "\n",
    "    this_piece.contour_polar = (angles_deg, distances)\n",
    "\n",
    "    delta_s = len(angles_deg) // 4\n",
    "\n",
    "    angles_deg_s = np.roll(angles_deg, -delta_s)\n",
    "    distances_s = np.roll(distances, -delta_s)\n",
    "\n",
    "    # find the maxima\n",
    "    min_distance_between_peaks = len(distances) // 20\n",
    "    all_peak_indices, all_peak_properties = find_peaks(distances,                                 distance=min_distance_between_peaks,prominence=2)\n",
    "\n",
    "    all_peak_indices_s, all_peak_properties_s = find_peaks(distances_s,                                 distance=min_distance_between_peaks,prominence=2)\n",
    "    all_peak_indices_u = [(x+delta_s)%len(angles_deg) for x in all_peak_indices_s]\n",
    "    all_peak_indices_f = [y for y in all_peak_indices_u if y not in all_peak_indices]\n",
    "\n",
    "    for val in all_peak_indices_f:\n",
    "        pos = np.searchsorted(all_peak_indices, val)\n",
    "        all_peak_indices = np.insert(all_peak_indices, pos, val)\n",
    "\n",
    "    inverted_distances = [-d for d in distances]\n",
    "    all_min_indices, all_min_properties = find_peaks(inverted_distances,\n",
    "                                                     distance=min_distance_between_peaks, prominence=0.1)\n",
    "\n",
    "    # Calculate min_distances_avg\n",
    "    min_distances = [distances[min_idx] for min_idx in all_min_indices]\n",
    "    min_distances_avg = np.mean(min_distances)\n",
    "\n",
    "    # Filtering the peaks - following EXACT same logic as original\n",
    "    max_angle_diff = 25\n",
    "    delCounter = 0\n",
    "\n",
    "    # Convert to list for easier manipulation if needed\n",
    "    remaining_peak_indices = all_peak_indices.tolist() if isinstance(all_peak_indices,\n",
    "                                                                     np.ndarray) else all_peak_indices.copy()\n",
    "\n",
    "    while True:\n",
    "        removals_made = False\n",
    "\n",
    "        for k in range(len(remaining_peak_indices)):\n",
    "            if len(remaining_peak_indices) <= 1:\n",
    "                break\n",
    "\n",
    "            if distances[remaining_peak_indices[k]] <= min_distances_avg:\n",
    "                remaining_peak_indices.pop(k)\n",
    "                break\n",
    "\n",
    "            next_k = (k + 1) % len(remaining_peak_indices)  # Wrap-around logic\n",
    "            angle_k = angles_deg[remaining_peak_indices[k]]\n",
    "            angle_next_k = angles_deg[remaining_peak_indices[next_k]]\n",
    "\n",
    "            if abs(angle_next_k - angle_k) < max_angle_diff:\n",
    "                delCounter += 1\n",
    "                removals_made = True\n",
    "\n",
    "                dist_k = distances[remaining_peak_indices[k]]\n",
    "                dist_next_k = distances[remaining_peak_indices[next_k]]\n",
    "\n",
    "                if dist_k < dist_next_k:\n",
    "                    remaining_peak_indices.pop(k)\n",
    "                else:\n",
    "                    remaining_peak_indices.pop(next_k)\n",
    "\n",
    "                break\n",
    "\n",
    "        if not removals_made or len(remaining_peak_indices) <= 1:\n",
    "            break\n",
    "\n",
    "    all_peak_indices = np.array(remaining_peak_indices) if isinstance(all_peak_indices,\n",
    "                                                                      np.ndarray) else remaining_peak_indices\n",
    "\n",
    "    new_min_indice = all_min_indices.copy()\n",
    "\n",
    "    min_angles = [angles_deg[min_idx] for min_idx in new_min_indice]\n",
    "    min_distances = [distances[min_idx] for min_idx in new_min_indice]\n",
    "\n",
    "    def robust_pointiness(angles_deg, distances, peak_indices, window_small=5, window_large=15):\n",
    "        pointiness_scores = []\n",
    "\n",
    "        for peak_idx in peak_indices:\n",
    "            small_left = max(0, peak_idx - window_small)\n",
    "            small_right = min(len(distances) - 1, peak_idx + window_small)\n",
    "            small_window = distances[small_left:small_right+1]\n",
    "\n",
    "            large_left = max(0, peak_idx - window_large)\n",
    "            large_right = min(len(distances) - 1, peak_idx + window_large)\n",
    "            large_window = distances[large_left:large_right+1]\n",
    "\n",
    "            peak_height = distances[peak_idx]\n",
    "            small_avg = np.mean(small_window)\n",
    "            large_avg = np.mean(large_window)\n",
    "\n",
    "            pointiness = (peak_height - large_avg) * (small_avg - large_avg)\n",
    "            pointiness_scores.append(pointiness)\n",
    "\n",
    "        return pointiness_scores\n",
    "\n",
    "    pointiness_scores = robust_pointiness(angles_deg, distances, all_peak_indices)\n",
    "\n",
    "    top_4_indices = sorted(range(len(pointiness_scores)),\n",
    "                          key=lambda i: pointiness_scores[i],\n",
    "                          reverse=True)[:4]\n",
    "\n",
    "    top_4_indices = sorted(top_4_indices)\n",
    "    top_4_peak_indices = [all_peak_indices[i] for i in top_4_indices]\n",
    "\n",
    "    temp = [int(w) for w in top_4_peak_indices]\n",
    "    remaining_indices = [z for z in all_peak_indices if z not in temp]\n",
    "\n",
    "    top_4_angles = [angles_deg[i] for i in top_4_peak_indices]\n",
    "    top_4_distances = [distances[i] for i in top_4_peak_indices]\n",
    "\n",
    "    peak_angles = angles_deg[all_peak_indices]\n",
    "    peak_distances = distances[all_peak_indices]\n",
    "\n",
    "    this_piece.corners_idx = top_4_peak_indices\n",
    "\n",
    "    # ## Edge type detection\n",
    "\n",
    "    def exists_peak_between(a,b,peak_indices):\n",
    "        if b < a:\n",
    "            for p in peak_indices:\n",
    "                if p > a or p < b:\n",
    "                    # print(f\"Found maxima {p}\")\n",
    "                    return True\n",
    "\n",
    "        else:\n",
    "            for p in peak_indices:\n",
    "                if p > a and p < b:\n",
    "                    # print(f\"Found maxima {p}\")\n",
    "                    return True\n",
    "\n",
    "            # print(\"no peak between\")\n",
    "            return False\n",
    "\n",
    "    resize_factor = 0.8\n",
    "\n",
    "    def exists_minima_between(a,b,min_indices):\n",
    "        if b < a:\n",
    "            for p in min_indices:\n",
    "                if p > a or p < b:\n",
    "                    # hack to set distance smaller than custom threshold\n",
    "                    if distances[p] < ((max(distances[a], distances[b])*resize_factor ) /1.41):\n",
    "                        # print(f\"Found minima {p}\")\n",
    "                        return True\n",
    "                    else:\n",
    "                        return False\n",
    "\n",
    "        else:\n",
    "            for p in min_indices:\n",
    "                if p > a and p < b:\n",
    "                    if distances[p] < ((max(distances[a], distances[b])*resize_factor ) /1.41):\n",
    "                        # print(f\"Found minima {p}\")\n",
    "                        return True\n",
    "                    else:\n",
    "                        return False\n",
    "\n",
    "            # print(\"no min between\")\n",
    "            return False\n",
    "\n",
    "    edge_types = {0: \"FLAT\", 1: \"IN\", 2: \"OUT\"}\n",
    "    # print(all_min_indices)\n",
    "\n",
    "    def get_edge_type(a, b):\n",
    "        # print(\"-----\")\n",
    "        # print(a, b)\n",
    "        # print(angles_deg[a], angles_deg[b])\n",
    "        #\n",
    "        # print(remaining_indices)\n",
    "        # print([angles_deg[r] for r in remaining_indices])\n",
    "        if exists_peak_between(a, b, remaining_indices):\n",
    "            return 2\n",
    "        else:\n",
    "            if exists_minima_between(a, b, all_min_indices):\n",
    "                return 1\n",
    "            else:\n",
    "                return 0\n",
    "\n",
    "\n",
    "    edges = []\n",
    "\n",
    "    edges_cat = {0: 0, 1: 0, 2: 0}\n",
    "    edges_ord = []\n",
    "\n",
    "    for c, corner in enumerate(top_4_peak_indices):\n",
    "        corner1 = top_4_peak_indices[c]\n",
    "        corner2 = top_4_peak_indices[(c+1) % len(top_4_peak_indices)]\n",
    "\n",
    "        type = get_edge_type(corner1, corner2)\n",
    "        edges_cat[type] += 1\n",
    "        edges_ord.append(type)\n",
    "\n",
    "        edges.append((chr(97 + c), corner1, corner2, get_edge_type(corner1, corner2)))\n",
    "\n",
    "    this_piece.edges_desc = (\"EDGE_ID\", \"CORNER1\", \"CORNER2\", \"EDGE_TYPE\")\n",
    "\n",
    "    # edge_types = {0: \"FLAT\", 1: \"IN\", 2: \"OUT\"}\n",
    "    # piece_types = {0 : \"CORNER\", 1 : \"BORDER\", 2 : \"MIDDLE\"}\n",
    "\n",
    "    # print(\"----edges cat---\")\n",
    "    # print(edges_cat)\n",
    "\n",
    "    if edges_cat[0] == 2:\n",
    "        piece_type = 0\n",
    "        my_puzzle.corners_pieces.append(selected_image_index)\n",
    "    elif edges_cat[0] == 1:\n",
    "        piece_type = 1\n",
    "        my_puzzle.borders_pieces.append(selected_image_index)\n",
    "    else:\n",
    "        piece_type = 2\n",
    "        my_puzzle.middle_pieces.append(selected_image_index)\n",
    "\n",
    "    this_piece.edges = edges\n",
    "    this_piece.edges_cat = edges_cat\n",
    "    this_piece.edges_ord = edges_ord\n",
    "    this_piece.piece_type = piece_type\n",
    "\n",
    "    ## Draw edges types with Corners\n",
    "    color_edge_corner_piece = contour_piece.copy()\n",
    "\n",
    "    contour_points = contour.reshape(-1, 2)\n",
    "    contour_points_shifted = contour_points - np.array([x, y])  # apply shift\n",
    "\n",
    "    edge_colors = {\n",
    "        0: (0, 0, 255),   # Blue for edge_type 0\n",
    "        1: (255, 255, 0), # Yellow for edge_type 1\n",
    "        2: (0, 255, 0)    # Green for edge_type 2\n",
    "    }\n",
    "\n",
    "    corner_color = (255, 0, 255)  # Purple color for corners\n",
    "    for edge_id, start_idx, end_idx, edge_type in edges:\n",
    "        start_px, start_py = contour_points[start_idx] - np.array([x, y])\n",
    "        end_px, end_py = contour_points[end_idx] - np.array([x, y])\n",
    "\n",
    "        color = edge_colors[edge_type]\n",
    "        if start_idx < end_idx:\n",
    "            indices = range(start_idx, end_idx)\n",
    "        else:\n",
    "            indices = list(range(start_idx, len(contour_points))) + list(range(0, end_idx))\n",
    "\n",
    "        for idx in indices:\n",
    "            px, py = contour_points_shifted[idx]\n",
    "            color_edge_corner_piece[py, px] = color\n",
    "\n",
    "        cv2.circle(color_edge_corner_piece, (start_px, start_py), 3, corner_color, -1)  # Start corner\n",
    "        cv2.circle(color_edge_corner_piece, (end_px, end_py), 3, corner_color, -1)    # End corner\n",
    "\n",
    "    edges_corners_path = os.path.join(output_tests, f\"edges_corners_x_{selected_image_index}.png\")\n",
    "    cv2.imwrite(edges_corners_path, color_edge_corner_piece)\n",
    "\n",
    "    my_puzzle.all_pieces[selected_image_index] = this_piece\n"
   ],
   "id": "7775becc75a3b162",
   "outputs": [],
   "execution_count": 118
  },
  {
   "metadata": {
    "ExecuteTime": {
     "end_time": "2025-04-17T01:30:55.931337Z",
     "start_time": "2025-04-17T01:30:55.928693Z"
    }
   },
   "cell_type": "code",
   "source": [
    "print(\"----------- STATS ---------- \")\n",
    "\n",
    "print(f\"Number of pieces: {len(my_puzzle.all_pieces)}\")\n",
    "\n",
    "print(\"Corners: \", my_puzzle.corners_pieces)\n",
    "print(\"Borders: \", my_puzzle.borders_pieces)\n",
    "print(\"Middles: \", my_puzzle.middle_pieces)"
   ],
   "id": "cc7233c2b6b93db7",
   "outputs": [
    {
     "name": "stdout",
     "output_type": "stream",
     "text": [
      "----------- STATS ---------- \n",
      "Number of pieces: 24\n",
      "Corners:  [2, 6, 17, 19]\n",
      "Borders:  [1, 4, 5, 7, 9, 12, 13, 14, 16, 18, 21, 22]\n",
      "Middles:  [0, 3, 8, 10, 11, 15, 20, 23]\n"
     ]
    }
   ],
   "execution_count": 119
  },
  {
   "metadata": {
    "ExecuteTime": {
     "end_time": "2025-04-17T01:30:55.977855Z",
     "start_time": "2025-04-17T01:30:55.975477Z"
    }
   },
   "cell_type": "code",
   "source": [
    "def find_puzzle_size(total, corners, borders, middles):\n",
    "    for h in range(1, total + 1):\n",
    "        if total % h != 0:\n",
    "            continue\n",
    "        w = total // h\n",
    "        if corners == 4 and \\\n",
    "           borders == 2 * (w + h - 4) and \\\n",
    "           middles == (w - 2) * (h - 2):\n",
    "            return (w, h)\n",
    "    return None"
   ],
   "id": "22e4875a5020d198",
   "outputs": [],
   "execution_count": 120
  },
  {
   "metadata": {
    "ExecuteTime": {
     "end_time": "2025-04-17T01:30:56.024457Z",
     "start_time": "2025-04-17T01:30:56.021310Z"
    }
   },
   "cell_type": "code",
   "source": "find_puzzle_size(len(my_puzzle.all_pieces), len(my_puzzle.corners_pieces), len(my_puzzle.borders_pieces), len(my_puzzle.middle_pieces))",
   "id": "4823250beb1dfe50",
   "outputs": [
    {
     "data": {
      "text/plain": [
       "(6, 4)"
      ]
     },
     "execution_count": 121,
     "metadata": {},
     "output_type": "execute_result"
    }
   ],
   "execution_count": 121
  },
  {
   "metadata": {
    "ExecuteTime": {
     "end_time": "2025-04-17T01:30:56.070167Z",
     "start_time": "2025-04-17T01:30:56.067149Z"
    }
   },
   "cell_type": "code",
   "source": [
    "def display_image_cv2(title, image):\n",
    "    if len(image.shape) == 3 and image.shape[2] == 4:\n",
    "        white_background = np.ones((image.shape[0], image.shape[1], 3), dtype=np.uint8) * 255\n",
    "\n",
    "        alpha = image[:, :, 3] / 255.0\n",
    "\n",
    "        alpha_3channel = np.stack([alpha, alpha, alpha], axis=2)\n",
    "        bgr = image[:, :, 0:3]\n",
    "\n",
    "        result = (alpha_3channel * bgr + (1 - alpha_3channel) * white_background).astype(np.uint8)\n",
    "\n",
    "        cv2.imshow(title, result)\n",
    "    else:\n",
    "        cv2.imshow(title, image)\n",
    "\n",
    "    cv2.waitKey(0)\n",
    "    cv2.destroyAllWindows()"
   ],
   "id": "b758d4648091a268",
   "outputs": [],
   "execution_count": 122
  },
  {
   "metadata": {
    "ExecuteTime": {
     "end_time": "2025-04-17T01:30:56.114213Z",
     "start_time": "2025-04-17T01:30:56.112169Z"
    }
   },
   "cell_type": "code",
   "source": [
    "target_index = 5\n",
    "test_piece = my_puzzle.all_pieces[target_index]"
   ],
   "id": "64467a221de5011",
   "outputs": [],
   "execution_count": 123
  },
  {
   "metadata": {
    "ExecuteTime": {
     "end_time": "2025-04-17T01:35:10.744462Z",
     "start_time": "2025-04-17T01:35:10.740558Z"
    }
   },
   "cell_type": "code",
   "source": [
    "print(test_piece.edges_ord)\n",
    "print(test_piece.piece_type)\n",
    "data = test_piece.edges\n",
    "columns = test_piece.edges_desc\n",
    "\n",
    "df = pd.DataFrame(data, columns=columns)\n",
    "print(df)"
   ],
   "id": "d70647ac5850a9e0",
   "outputs": [
    {
     "name": "stdout",
     "output_type": "stream",
     "text": [
      "[1, 2, 0, 2]\n",
      "1\n",
      "  EDGE_ID  CORNER1  CORNER2  EDGE_TYPE\n",
      "0       a       87      284          1\n",
      "1       b      284      489          2\n",
      "2       c      489      617          0\n",
      "3       d      617       87          2\n"
     ]
    }
   ],
   "execution_count": 128
  },
  {
   "metadata": {
    "ExecuteTime": {
     "end_time": "2025-04-17T02:16:56.884525Z",
     "start_time": "2025-04-17T02:16:56.881045Z"
    }
   },
   "cell_type": "code",
   "source": [
    "corner1 = data[2][1]\n",
    "corner2 = data[2][2]\n",
    "\n",
    "point_1 = test_piece.relative_contour[corner1][0]\n",
    "point_2 = test_piece.relative_contour[corner2][0]\n",
    "\n",
    "\n",
    "# get angle with y-axis and find theta angle\n",
    "\n",
    "vec = point_2 - point_1\n",
    "orth = np.array([0, 1])\n",
    "\n",
    "cos_theta = np.dot(vec, orth) / (np.linalg.norm(vec) * np.linalg.norm(orth))\n",
    "angle_rad = np.arccos(cos_theta)\n",
    "angle_deg = np.degrees(angle_rad)\n",
    "\n",
    "print(angle_rad)\n",
    "print(angle_deg)\n",
    "\n",
    "if angle_deg > 90:\n",
    "    angle_deg = 180 - angle_deg\n",
    "\n",
    "print(angle_deg)\n"
   ],
   "id": "6f6d7bf7ff05f908",
   "outputs": [
    {
     "name": "stdout",
     "output_type": "stream",
     "text": [
      "2.9865959116658525\n",
      "171.11934084947978\n",
      "8.880659150520216\n"
     ]
    }
   ],
   "execution_count": 173
  },
  {
   "metadata": {
    "ExecuteTime": {
     "end_time": "2025-04-17T02:26:18.480243Z",
     "start_time": "2025-04-17T02:26:15.811673Z"
    }
   },
   "cell_type": "code",
   "source": [
    "# draw center\n",
    "image_with_center = test_piece.transparent_image.copy()\n",
    "cv2.circle(image_with_center, test_piece.relative_center, 2, (0, 0, 255, 255), -1)\n",
    "\n",
    "print(test_piece.relative_center)\n",
    "\n",
    "# cv2.circle(image_with_center, point_1, 2, (255, 255, 0, 255), -1)\n",
    "# cv2.circle(image_with_center, point_2, 2, (255, 255, 0, 255), -1)\n",
    "\n",
    "(h, w) = image_with_center.shape[:2]\n",
    "center = tuple(test_piece.relative_center)\n",
    "\n",
    "# rotate\n",
    "\n",
    "M = cv2.getRotationMatrix2D(center, angle_deg, 1.0)\n",
    "image_with_center = cv2.warpAffine(image_with_center, M, (w, h), flags=cv2.INTER_LINEAR, borderMode=cv2.BORDER_CONSTANT)\n",
    "\n",
    "\n",
    "\n",
    "display_image_cv2(f\"Transparent piece {target_index}\", image_with_center)"
   ],
   "id": "d0d615a6bf8a6bba",
   "outputs": [
    {
     "name": "stdout",
     "output_type": "stream",
     "text": [
      "(79, 107)\n"
     ]
    }
   ],
   "execution_count": 178
  },
  {
   "metadata": {
    "ExecuteTime": {
     "end_time": "2025-04-17T02:28:11.785279Z",
     "start_time": "2025-04-17T02:28:11.782064Z"
    }
   },
   "cell_type": "code",
   "source": [
    "p1_rot = M @ np.array([point_1[0], point_1[1], 1])\n",
    "p2_rot = M @ np.array([point_2[0], point_2[1], 1])\n",
    "\n",
    "\n",
    "p1_rot = tuple(np.round(p1_rot).astype(int))\n",
    "p2_rot = tuple(np.round(p2_rot).astype(int))\n",
    "\n",
    "\n",
    "print(\"Rotated point_1:\", p1_rot)\n",
    "print(\"Rotated point_2:\", p2_rot)"
   ],
   "id": "83117c036873abd7",
   "outputs": [
    {
     "name": "stdout",
     "output_type": "stream",
     "text": [
      "Rotated point_1: (np.int64(140), np.int64(171))\n",
      "Rotated point_2: (np.int64(140), np.int64(42))\n"
     ]
    }
   ],
   "execution_count": 181
  },
  {
   "metadata": {
    "ExecuteTime": {
     "end_time": "2025-04-17T02:29:30.071747Z",
     "start_time": "2025-04-17T02:28:13.943053Z"
    }
   },
   "cell_type": "code",
   "source": [
    "rotated_image = image_with_center.copy()\n",
    "\n",
    "cv2.circle(rotated_image, p1_rot, 4, (0, 255, 0, 255), -1)\n",
    "cv2.circle(rotated_image, p2_rot, 4, (0, 255, 0, 255), -1)\n",
    "\n",
    "display_image_cv2(f\"Transparent piece {target_index}\", rotated_image)"
   ],
   "id": "df55d667781f8f5d",
   "outputs": [],
   "execution_count": 182
  },
  {
   "metadata": {},
   "cell_type": "code",
   "outputs": [],
   "execution_count": null,
   "source": "",
   "id": "bf5067bfb5c277cd"
  }
 ],
 "metadata": {
  "kernelspec": {
   "display_name": "Python 3",
   "language": "python",
   "name": "python3"
  },
  "language_info": {
   "codemirror_mode": {
    "name": "ipython",
    "version": 2
   },
   "file_extension": ".py",
   "mimetype": "text/x-python",
   "name": "python",
   "nbconvert_exporter": "python",
   "pygments_lexer": "ipython2",
   "version": "2.7.6"
  }
 },
 "nbformat": 4,
 "nbformat_minor": 5
}
